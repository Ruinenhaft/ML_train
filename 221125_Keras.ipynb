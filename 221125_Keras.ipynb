{
  "nbformat": 4,
  "nbformat_minor": 0,
  "metadata": {
    "colab": {
      "provenance": []
    },
    "kernelspec": {
      "name": "python3",
      "display_name": "Python 3"
    },
    "language_info": {
      "name": "python"
    },
    "accelerator": "GPU",
    "gpuClass": "standard"
  },
  "cells": [
    {
      "cell_type": "code",
      "execution_count": 2,
      "metadata": {
        "id": "2U14MWZsGUpY"
      },
      "outputs": [],
      "source": [
        "# Keras - Tensorflow 고수준 API - 많은게 이미 정해진 대신 커스터마이징이 어렵다\n",
        "from keras.models import Sequential # 순잔파 모델 클래스\n",
        "from keras.layers import Dense # 층을 쌓아주는 클래스 (model.add...)\n"
      ]
    },
    {
      "cell_type": "code",
      "source": [
        "# Sequential 모델\n",
        "model = Sequential()"
      ],
      "metadata": {
        "id": "-mg1TqMTJF8a"
      },
      "execution_count": 3,
      "outputs": []
    },
    {
      "cell_type": "code",
      "source": [
        "# 입력층 3이고 은닝층이 2인 레이어 추가\n",
        "model.add(Dense(input_shape=(3,), units=2, activation='sigmoid')) # 활성함수를 시그모이드 활용.\n",
        "# 출력층 추가\n",
        "model.add(Dense(1))"
      ],
      "metadata": {
        "id": "N-wQIg1FJKM7"
      },
      "execution_count": 4,
      "outputs": []
    },
    {
      "cell_type": "code",
      "source": [
        "# Layer 정보\n",
        "model.summary() # 입력층 dense는 별도로 표기되지 않는다.\n",
        "# Param - 연결된 노드의 줄 갯수 + 노드 자체의 수\n",
        "# 입력 3개 층, 레이어가 2개이면 연결되는 선은 6개, 레이어 2개 해서 분석되는건 8개라고 취급한다."
      ],
      "metadata": {
        "colab": {
          "base_uri": "https://localhost:8080/"
        },
        "id": "Jz6Xnh_XJqWi",
        "outputId": "b59c3080-e9b5-4f4e-cf35-0375f1a24757"
      },
      "execution_count": 5,
      "outputs": [
        {
          "output_type": "stream",
          "name": "stdout",
          "text": [
            "Model: \"sequential\"\n",
            "_________________________________________________________________\n",
            " Layer (type)                Output Shape              Param #   \n",
            "=================================================================\n",
            " dense (Dense)               (None, 2)                 8         \n",
            "                                                                 \n",
            " dense_1 (Dense)             (None, 1)                 3         \n",
            "                                                                 \n",
            "=================================================================\n",
            "Total params: 11\n",
            "Trainable params: 11\n",
            "Non-trainable params: 0\n",
            "_________________________________________________________________\n"
          ]
        }
      ]
    },
    {
      "cell_type": "code",
      "source": [
        "# 모델 학습 -> epoch, 최적화함수, 손실 함수(loss)\n",
        "from keras import optimizers\n",
        "# 최적화 함수\n",
        "sgd = optimizers.SGD()\n",
        "# 손실 함수 설정\n",
        "model.compile(loss='mse', optimizer=sgd)# 회귀, 연속된 값\n",
        "# 분류 문제에 대한 손실 함수\n",
        "model.compile(loss='categorical_crossentropy', optimizer=sgd, metrics=['accuracy'])# 회귀, 연속된 값\n"
      ],
      "metadata": {
        "id": "TaZr8JYPKHV3"
      },
      "execution_count": 6,
      "outputs": []
    },
    {
      "cell_type": "code",
      "source": [
        "# IMDB - 왓챠피디아, 영화 리뷰 데이터셋 -> (BOW) => (1, 0)\n",
        "from keras.datasets import imdb"
      ],
      "metadata": {
        "id": "iM4Tw9z7KytD"
      },
      "execution_count": 7,
      "outputs": []
    },
    {
      "cell_type": "code",
      "source": [
        "# imdb 데이터 로드\n",
        "(train_data, train_labels), (test_data, test_labels) = imdb.load_data(\n",
        "    num_words = 10000 # 가장 자주 나타나는 1만개 단어만 사용\n",
        ")"
      ],
      "metadata": {
        "id": "yEUk4Vp-LK6O"
      },
      "execution_count": 8,
      "outputs": []
    },
    {
      "cell_type": "code",
      "source": [
        "print(train_data[0]) # BOW"
      ],
      "metadata": {
        "colab": {
          "base_uri": "https://localhost:8080/"
        },
        "id": "D4FWAY4XLeyx",
        "outputId": "7d79e4a0-c093-4c7c-e8b6-e2da78af41a9"
      },
      "execution_count": 9,
      "outputs": [
        {
          "output_type": "stream",
          "name": "stdout",
          "text": [
            "[1, 14, 22, 16, 43, 530, 973, 1622, 1385, 65, 458, 4468, 66, 3941, 4, 173, 36, 256, 5, 25, 100, 43, 838, 112, 50, 670, 2, 9, 35, 480, 284, 5, 150, 4, 172, 112, 167, 2, 336, 385, 39, 4, 172, 4536, 1111, 17, 546, 38, 13, 447, 4, 192, 50, 16, 6, 147, 2025, 19, 14, 22, 4, 1920, 4613, 469, 4, 22, 71, 87, 12, 16, 43, 530, 38, 76, 15, 13, 1247, 4, 22, 17, 515, 17, 12, 16, 626, 18, 2, 5, 62, 386, 12, 8, 316, 8, 106, 5, 4, 2223, 5244, 16, 480, 66, 3785, 33, 4, 130, 12, 16, 38, 619, 5, 25, 124, 51, 36, 135, 48, 25, 1415, 33, 6, 22, 12, 215, 28, 77, 52, 5, 14, 407, 16, 82, 2, 8, 4, 107, 117, 5952, 15, 256, 4, 2, 7, 3766, 5, 723, 36, 71, 43, 530, 476, 26, 400, 317, 46, 7, 4, 2, 1029, 13, 104, 88, 4, 381, 15, 297, 98, 32, 2071, 56, 26, 141, 6, 194, 7486, 18, 4, 226, 22, 21, 134, 476, 26, 480, 5, 144, 30, 5535, 18, 51, 36, 28, 224, 92, 25, 104, 4, 226, 65, 16, 38, 1334, 88, 12, 16, 283, 5, 16, 4472, 113, 103, 32, 15, 16, 5345, 19, 178, 32]\n"
          ]
        }
      ]
    },
    {
      "cell_type": "code",
      "source": [
        "# tensor로 바꾸는 과정 필요.\n",
        "print(train_labels)"
      ],
      "metadata": {
        "colab": {
          "base_uri": "https://localhost:8080/"
        },
        "id": "lXMaVqSzLkti",
        "outputId": "f6095784-5234-412f-9d81-3752718e2bad"
      },
      "execution_count": 10,
      "outputs": [
        {
          "output_type": "stream",
          "name": "stdout",
          "text": [
            "[1 0 0 ... 0 1 0]\n"
          ]
        }
      ]
    },
    {
      "cell_type": "code",
      "source": [
        "# 긍정이랑 부정만 확인하는\n",
        "# 가장 긴 리뷰\n",
        "max([max(sequensce) for sequensce in train_data])"
      ],
      "metadata": {
        "colab": {
          "base_uri": "https://localhost:8080/"
        },
        "id": "mL5ZWvfNLwwX",
        "outputId": "2bec83ce-a228-4c62-b481-7edf603db608"
      },
      "execution_count": 11,
      "outputs": [
        {
          "output_type": "execute_result",
          "data": {
            "text/plain": [
              "9999"
            ]
          },
          "metadata": {},
          "execution_count": 11
        }
      ]
    },
    {
      "cell_type": "code",
      "source": [
        "# 리스트 데이터 딥러닝 X -> 텐서\n",
        "import numpy as np\n",
        "\n",
        "def vectorize_sequence(sequences, dimension=10000):\n",
        "    # [1, 14, 22, 16, 43, 530 ...]\n",
        "    # [[0,1,0,0,0,...], [0,1,0, ...]...]\n",
        "    results = np.zeros((len(sequences), dimension)) # [[]] <- 1, 문장에 있는 단어 수 / 2. 고유 단어 수(BOW)\n",
        "    for i, seq in enumerate(sequences):\n",
        "        results[i, seq] = 1\n",
        "    return results \n",
        "\n",
        "x_train = vectorize_sequence(train_data)\n",
        "x_test = vectorize_sequence(test_data)"
      ],
      "metadata": {
        "id": "6w1BYcBJMG4x"
      },
      "execution_count": 12,
      "outputs": []
    },
    {
      "cell_type": "code",
      "source": [
        "print(x_train)"
      ],
      "metadata": {
        "colab": {
          "base_uri": "https://localhost:8080/"
        },
        "id": "blFSclNoNKng",
        "outputId": "4b0c2ce4-8792-40b7-c079-e0bbd8636396"
      },
      "execution_count": 13,
      "outputs": [
        {
          "output_type": "stream",
          "name": "stdout",
          "text": [
            "[[0. 1. 1. ... 0. 0. 0.]\n",
            " [0. 1. 1. ... 0. 0. 0.]\n",
            " [0. 1. 1. ... 0. 0. 0.]\n",
            " ...\n",
            " [0. 1. 1. ... 0. 0. 0.]\n",
            " [0. 1. 1. ... 0. 0. 0.]\n",
            " [0. 1. 1. ... 0. 0. 0.]]\n"
          ]
        }
      ]
    },
    {
      "cell_type": "code",
      "source": [
        "y_train = np.asarray(train_labels).astype('float32')\n",
        "y_test = np.asarray(test_labels).astype('float32')"
      ],
      "metadata": {
        "id": "7qkJhsK8NVsF"
      },
      "execution_count": 14,
      "outputs": []
    },
    {
      "cell_type": "code",
      "source": [
        "# 모델 설계\n",
        "from keras import models\n",
        "from keras import layers\n",
        "\n",
        "model = models.Sequential()\n",
        "# 입력층 10000개 / 은닉층 16층 / 활성화 Relu\n",
        "model.add(layers.Dense(16, activation='relu', input_shape=(10000,)))\n",
        "model.add(layers.Dense(16, activation='relu')) # relu -> 음수 0\n",
        "# 출력층 1 / 확률 (0~1) sigmoid\n",
        "model.add(layers.Dense(1, activation='sigmoid'))"
      ],
      "metadata": {
        "id": "fivMma2TN18U"
      },
      "execution_count": 15,
      "outputs": []
    },
    {
      "cell_type": "code",
      "source": [
        "model.summary()"
      ],
      "metadata": {
        "colab": {
          "base_uri": "https://localhost:8080/"
        },
        "id": "-GWgEWGsOgsJ",
        "outputId": "9402956a-5e03-484e-c8f4-fc4b66f95de7"
      },
      "execution_count": 16,
      "outputs": [
        {
          "output_type": "stream",
          "name": "stdout",
          "text": [
            "Model: \"sequential_1\"\n",
            "_________________________________________________________________\n",
            " Layer (type)                Output Shape              Param #   \n",
            "=================================================================\n",
            " dense_2 (Dense)             (None, 16)                160016    \n",
            "                                                                 \n",
            " dense_3 (Dense)             (None, 16)                272       \n",
            "                                                                 \n",
            " dense_4 (Dense)             (None, 1)                 17        \n",
            "                                                                 \n",
            "=================================================================\n",
            "Total params: 160,305\n",
            "Trainable params: 160,305\n",
            "Non-trainable params: 0\n",
            "_________________________________________________________________\n"
          ]
        }
      ]
    },
    {
      "cell_type": "code",
      "source": [
        "# 검증셋\n",
        "x_val = x_train[:10000]\n",
        "p_x_train = x_train[10000:]\n",
        "y_val = y_train[:10000]\n",
        "p_y_train = y_train[10000:]"
      ],
      "metadata": {
        "id": "KJo1UEA_Oi0J"
      },
      "execution_count": 17,
      "outputs": []
    },
    {
      "cell_type": "code",
      "source": [
        "# 손실함수, 최적화함수\n",
        "model.compile(optimizer='rmsprop', loss='binary_crossentropy', metrics=['acc'])\n",
        "\n",
        "history = model.fit(\n",
        "    p_x_train, p_y_train,\n",
        "    epochs=20, batch_size=512,\n",
        "    validation_data=(x_val, y_val)\n",
        ")\n",
        "\n",
        "results = model.evaluate(x_test, y_test)"
      ],
      "metadata": {
        "colab": {
          "base_uri": "https://localhost:8080/"
        },
        "id": "BpuO7_uOO0MI",
        "outputId": "62c7d497-90cd-4f08-da58-ece644993223"
      },
      "execution_count": 18,
      "outputs": [
        {
          "output_type": "stream",
          "name": "stdout",
          "text": [
            "Epoch 1/20\n",
            "30/30 [==============================] - 4s 44ms/step - loss: 0.5007 - acc: 0.7849 - val_loss: 0.3758 - val_acc: 0.8593\n",
            "Epoch 2/20\n",
            "30/30 [==============================] - 1s 21ms/step - loss: 0.2921 - acc: 0.9084 - val_loss: 0.2978 - val_acc: 0.8900\n",
            "Epoch 3/20\n",
            "30/30 [==============================] - 1s 21ms/step - loss: 0.2139 - acc: 0.9301 - val_loss: 0.2826 - val_acc: 0.8877\n",
            "Epoch 4/20\n",
            "30/30 [==============================] - 1s 20ms/step - loss: 0.1682 - acc: 0.9449 - val_loss: 0.2792 - val_acc: 0.8885\n",
            "Epoch 5/20\n",
            "30/30 [==============================] - 1s 21ms/step - loss: 0.1390 - acc: 0.9543 - val_loss: 0.2823 - val_acc: 0.8873\n",
            "Epoch 6/20\n",
            "30/30 [==============================] - 1s 24ms/step - loss: 0.1159 - acc: 0.9644 - val_loss: 0.2952 - val_acc: 0.8868\n",
            "Epoch 7/20\n",
            "30/30 [==============================] - 1s 20ms/step - loss: 0.0958 - acc: 0.9717 - val_loss: 0.3704 - val_acc: 0.8644\n",
            "Epoch 8/20\n",
            "30/30 [==============================] - 1s 21ms/step - loss: 0.0841 - acc: 0.9756 - val_loss: 0.3347 - val_acc: 0.8782\n",
            "Epoch 9/20\n",
            "30/30 [==============================] - 1s 21ms/step - loss: 0.0669 - acc: 0.9831 - val_loss: 0.3602 - val_acc: 0.8757\n",
            "Epoch 10/20\n",
            "30/30 [==============================] - 1s 21ms/step - loss: 0.0589 - acc: 0.9852 - val_loss: 0.4053 - val_acc: 0.8725\n",
            "Epoch 11/20\n",
            "30/30 [==============================] - 1s 20ms/step - loss: 0.0483 - acc: 0.9877 - val_loss: 0.3999 - val_acc: 0.8746\n",
            "Epoch 12/20\n",
            "30/30 [==============================] - 1s 20ms/step - loss: 0.0404 - acc: 0.9912 - val_loss: 0.4280 - val_acc: 0.8743\n",
            "Epoch 13/20\n",
            "30/30 [==============================] - 1s 21ms/step - loss: 0.0351 - acc: 0.9919 - val_loss: 0.4532 - val_acc: 0.8744\n",
            "Epoch 14/20\n",
            "30/30 [==============================] - 1s 21ms/step - loss: 0.0257 - acc: 0.9956 - val_loss: 0.4821 - val_acc: 0.8686\n",
            "Epoch 15/20\n",
            "30/30 [==============================] - 1s 21ms/step - loss: 0.0227 - acc: 0.9961 - val_loss: 0.5109 - val_acc: 0.8697\n",
            "Epoch 16/20\n",
            "30/30 [==============================] - 1s 24ms/step - loss: 0.0186 - acc: 0.9974 - val_loss: 0.5414 - val_acc: 0.8664\n",
            "Epoch 17/20\n",
            "30/30 [==============================] - 1s 21ms/step - loss: 0.0142 - acc: 0.9984 - val_loss: 0.5780 - val_acc: 0.8655\n",
            "Epoch 18/20\n",
            "30/30 [==============================] - 1s 21ms/step - loss: 0.0139 - acc: 0.9977 - val_loss: 0.6105 - val_acc: 0.8675\n",
            "Epoch 19/20\n",
            "30/30 [==============================] - 1s 21ms/step - loss: 0.0115 - acc: 0.9981 - val_loss: 0.6548 - val_acc: 0.8655\n",
            "Epoch 20/20\n",
            "30/30 [==============================] - 1s 21ms/step - loss: 0.0054 - acc: 0.9998 - val_loss: 0.6829 - val_acc: 0.8655\n",
            "782/782 [==============================] - 2s 3ms/step - loss: 0.7344 - acc: 0.8515\n"
          ]
        }
      ]
    },
    {
      "cell_type": "code",
      "source": [
        "results # loss / accuracy"
      ],
      "metadata": {
        "colab": {
          "base_uri": "https://localhost:8080/"
        },
        "id": "WmejE47dPbKT",
        "outputId": "60b11bd0-2e11-4605-a6c7-0142632692f9"
      },
      "execution_count": 19,
      "outputs": [
        {
          "output_type": "execute_result",
          "data": {
            "text/plain": [
              "[0.734447181224823, 0.8515200018882751]"
            ]
          },
          "metadata": {},
          "execution_count": 19
        }
      ]
    },
    {
      "cell_type": "code",
      "source": [
        "(model.predict(x_test) >= 0.5).astype('float32')"
      ],
      "metadata": {
        "colab": {
          "base_uri": "https://localhost:8080/"
        },
        "id": "cF9jM2S8P1cd",
        "outputId": "6751ebf0-9ba9-421c-f418-b30588482a4a"
      },
      "execution_count": 20,
      "outputs": [
        {
          "output_type": "stream",
          "name": "stdout",
          "text": [
            "782/782 [==============================] - 2s 3ms/step\n"
          ]
        },
        {
          "output_type": "execute_result",
          "data": {
            "text/plain": [
              "array([[0.],\n",
              "       [1.],\n",
              "       [1.],\n",
              "       ...,\n",
              "       [0.],\n",
              "       [0.],\n",
              "       [1.]], dtype=float32)"
            ]
          },
          "metadata": {},
          "execution_count": 20
        }
      ]
    },
    {
      "cell_type": "code",
      "source": [
        "history_dict = history.history\n",
        "history_dict.keys()"
      ],
      "metadata": {
        "colab": {
          "base_uri": "https://localhost:8080/"
        },
        "id": "oeLVFNU3P2EW",
        "outputId": "18f9b1af-c405-4faa-f8c6-e9c6ad0d77a7"
      },
      "execution_count": 21,
      "outputs": [
        {
          "output_type": "execute_result",
          "data": {
            "text/plain": [
              "dict_keys(['loss', 'acc', 'val_loss', 'val_acc'])"
            ]
          },
          "metadata": {},
          "execution_count": 21
        }
      ]
    },
    {
      "cell_type": "code",
      "source": [
        "# 훈련과 검증 데이터에 대한 손실 시각화\n",
        "import matplotlib.pyplot as plt\n",
        "\n",
        "history_dict = history.history\n",
        "loss = history_dict['loss']\n",
        "val_loss = history_dict['val_loss']\n",
        "\n",
        "epochs = range(1, len(loss) + 1)\n",
        "\n",
        "plt.subplot(1, 2, 1)\n",
        "plt.plot(epochs, loss, 'bo', label='Training loss')\n",
        "plt.plot(epochs, val_loss, 'b', label='Validation loss')\n",
        "plt.title('Training and validation loss')\n",
        "plt.xlabel('Epochs')\n",
        "plt.ylabel('Loss')\n",
        "plt.legend()\n",
        "\n",
        "# 훈련과 검증 데이터에 대한 정확도 시각화\n",
        "plt.subplot(1, 2, 2)\n",
        "acc = history_dict['acc']\n",
        "val_acc = history_dict['val_acc']\n",
        "\n",
        "plt.plot(epochs, acc, 'bo', label='Training acc')\n",
        "plt.plot(epochs, val_acc, 'b', label='Validation acc')\n",
        "plt.title('Training and validation accuracy')\n",
        "plt.xlabel('Epochs')\n",
        "plt.ylabel('Accuracy')\n",
        "plt.legend()\n",
        "plt.tight_layout()\n",
        "plt.show()\n",
        "# 훈련 손실이 에포크마다 감소하고 훈련 정확도는 에포크마다 증가\n",
        "# 검증 손실과 정확도는 일치하지 않음 -> 오버피팅"
      ],
      "metadata": {
        "colab": {
          "base_uri": "https://localhost:8080/",
          "height": 297
        },
        "id": "MXZdEfbIP-BS",
        "outputId": "b27ed419-9078-4f23-99cf-1b5bfc2b622f"
      },
      "execution_count": 22,
      "outputs": [
        {
          "output_type": "display_data",
          "data": {
            "text/plain": [
              "<Figure size 432x288 with 2 Axes>"
            ],
            "image/png": "[encoded data removed]"
          },
          "metadata": {
            "needs_background": "light"
          }
        }
      ]
    },
    {
      "cell_type": "code",
      "source": [
        "model2 = models.Sequential()\n",
        "model2.add(layers.Dense(16, activation='relu', input_shape=(10000,)))\n",
        "model2.add(layers.Dense(16, activation='relu'))\n",
        "model2.add(layers.Dense(1, activation='sigmoid'))\n",
        "model2.compile(optimizer='rmsprop',\n",
        "              loss='binary_crossentropy',\n",
        "              metrics=['acc'])\n",
        "model2.fit(x_train, y_train, epochs=4, batch_size=512)\n",
        "results2 = model2.evaluate(x_test, y_test)"
      ],
      "metadata": {
        "colab": {
          "base_uri": "https://localhost:8080/"
        },
        "id": "W0duq5XKQOXa",
        "outputId": "0a8aabe8-a81f-457c-c523-aa33ca68f90e"
      },
      "execution_count": 23,
      "outputs": [
        {
          "output_type": "stream",
          "name": "stdout",
          "text": [
            "Epoch 1/4\n",
            "49/49 [==============================] - 1s 13ms/step - loss: 0.4423 - acc: 0.8255\n",
            "Epoch 2/4\n",
            "49/49 [==============================] - 1s 13ms/step - loss: 0.2507 - acc: 0.9120\n",
            "Epoch 3/4\n",
            "49/49 [==============================] - 1s 13ms/step - loss: 0.1964 - acc: 0.9294\n",
            "Epoch 4/4\n",
            "49/49 [==============================] - 1s 13ms/step - loss: 0.1639 - acc: 0.9412\n",
            "782/782 [==============================] - 2s 3ms/step - loss: 0.3017 - acc: 0.8809\n"
          ]
        }
      ]
    },
    {
      "cell_type": "code",
      "source": [
        "results2"
      ],
      "metadata": {
        "colab": {
          "base_uri": "https://localhost:8080/"
        },
        "id": "lFbrnS6QQD9t",
        "outputId": "7ab80836-04bf-42a8-e603-77d933d32541"
      },
      "execution_count": 24,
      "outputs": [
        {
          "output_type": "execute_result",
          "data": {
            "text/plain": [
              "[0.30170580744743347, 0.8808799982070923]"
            ]
          },
          "metadata": {},
          "execution_count": 24
        }
      ]
    },
    {
      "cell_type": "code",
      "source": [],
      "metadata": {
        "id": "8_5GrG_UQaF_"
      },
      "execution_count": 24,
      "outputs": []
    }
  ]
}